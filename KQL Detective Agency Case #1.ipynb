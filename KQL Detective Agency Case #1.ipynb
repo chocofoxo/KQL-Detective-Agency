{
 "cells": [
  {
   "cell_type": "markdown",
   "id": "0d310a85",
   "metadata": {},
   "source": [
    "# Challenge from [KQL Detective](https://detective.kusto.io/) - \"The rarest book is missing!\""
   ]
  },
  {
   "cell_type": "markdown",
   "id": "c16ae8cb",
   "metadata": {},
   "source": [
    "I solved this challenge using KQL and received a badge on [Credly](https://www.credly.com/users/dina-levashova).\n",
    "I wanted to see if I could recreate the solution in Python and evaluate which approach is simpler."
   ]
  },
  {
   "cell_type": "markdown",
   "id": "25ea60c2",
   "metadata": {},
   "source": [
    "The data for this project can be downloaded here: \n",
    "\n",
    "Shelves data: https://kustodetectiveagency.blob.core.windows.net/digitown-books/shelves.csv.gz\n",
    "\n",
    "Books data: https://kustodetectiveagency.blob.core.windows.net/digitown-books/books.csv.gz"
   ]
  },
  {
   "cell_type": "markdown",
   "id": "5a636682",
   "metadata": {},
   "source": [
    "### Prompt"
   ]
  },
  {
   "cell_type": "markdown",
   "id": "9fe3606c",
   "metadata": {},
   "source": [
    "This was supposed to be a great day for Digitown’s National Library Museum and all of Digitown.\n",
    "The museum has just finished scanning more than 325,000 rare books, so that history lovers around the world can experience the ancient culture and knowledge of the Digitown Explorers.\n",
    "The great book exhibition was about to re-open, when the museum director noticed that he can't locate the rarest book in the world:\n",
    "\"De Revolutionibus Magnis Data\", published 1613, by Gustav Kustov.\n",
    "The mayor of the Digitown herself, Mrs. Gaia Budskott - has called on our agency to help find the missing artifact.\n",
    "\n",
    "Luckily, everything is digital in the Digitown library:\n",
    "- Each book has its parameters recorded: number of pages, weight.\n",
    "- Each book has RFID sticker attached (RFID: radio-transmitter with ID).\n",
    "- Each shelve in the Museum sends data: what RFIDs appear on the shelve and also measures actual total weight of books on the shelve.\n",
    "\n",
    "Unfortunately, the RFID of the \"De Revolutionibus Magnis Data\" was found on the museum floor - detached and lonely.\n",
    "Perhaps, you will be able to locate the book on one of the museum shelves and save the day?"
   ]
  },
  {
   "cell_type": "markdown",
   "id": "9800ccdd",
   "metadata": {},
   "source": [
    "### Setup queries provided:\n",
    "```\n",
    ".execute database script <|\n",
    "// Create table for the books\n",
    ".create-merge table Books(rf_id:string, book_title:string, publish_date:long, author:string, language:string, number_of_pages:long, weight_gram:long)\n",
    "// Import data for books\n",
    "// (Used data is utilzing catalogue from https://github.com/internetarchive/openlibrary )\n",
    ".ingest into table Books ('https://kustodetectiveagency.blob.core.windows.net/digitown-books/books.csv.gz') with (ignoreFirstRecord=true)\n",
    "// Create table for the shelves\n",
    ".create-merge table Shelves (shelf:long, rf_ids:dynamic, total_weight:long) \n",
    "// Import data for shelves\n",
    ".ingest into table Shelves ('https://kustodetectiveagency.blob.core.windows.net/digitown-books/shelves.csv.gz') with (ignoreFirstRecord=true)\n",
    "```"
   ]
  },
  {
   "cell_type": "markdown",
   "id": "0a5a5e6f",
   "metadata": {},
   "source": [
    "### Question: Which shelf is the book on?"
   ]
  },
  {
   "cell_type": "markdown",
   "id": "24616a38",
   "metadata": {},
   "source": [
    "## My solution in KQL:"
   ]
  },
  {
   "cell_type": "markdown",
   "id": "72b6a5c8",
   "metadata": {},
   "source": [
    "I examined the contents of each table created:\n",
    "```\n",
    "Books \n",
    "| take 20 \n",
    "\n",
    "Shelves\n",
    "| take 20\n",
    "```\n",
    "The \"Books\" table contained fields including the book's title (book_title), RFID (rf_id) and weight (weight_gram). The \"Shelves\" table had fields for the unique shelf number (shelf), RFIDs on the shelf (rf_ids) and total weight on shelf (total_weight).\n",
    "\n",
    "I searched for the missing book by name in the Books table:\n",
    "\n",
    "    Books | where book_title == \"De Revolutionibus Magnis Data\"\n",
    "\n",
    "And found that the book has an RFID of 0cbc13e0aa7d487e8e797d3de3823161 and a weight of 1,764 grams.\n",
    "\n",
    "I searched the Shelves table for this RFID and found that it is indeed missing:\n",
    "\n",
    "    Shelves \n",
    "    | where rf_ids has \"0cbc13e0aa7d487e8e797d3de3823161\""
   ]
  },
  {
   "cell_type": "markdown",
   "id": "11d973be",
   "metadata": {},
   "source": [
    "The only way to find the book would be by weight as that is the only other common parameter between Books and Shelves. \n",
    "\n",
    "I needed to find the shelf whose total weight was greater than the weight of the books on it.\n",
    "\n",
    "Testing the code on a sample of 20 to make sure that it works first, I expanded the array of rf_ids that are listed in Shelves to have one RFID per row and called the column \"rf_id\". I then joined the table with fields in Books based on the corresponding rf_id.\n",
    "    \n",
    "    Shelves\n",
    "    | take 20\n",
    "    | mv-expand rf_id = rf_ids\n",
    "    | join kind = leftouter Books on rf_id\n",
    "    \n",
    "At this point, I received an error on the \"join\" operator that the \"rf_id\" columns are of different types. So I edited the query to convert the type to string in mv-expand:\n",
    "\n",
    "    Shelves\n",
    "    | take 20\n",
    "    | mv-expand rf_id = rf_ids\n",
    "    | join kind = leftouter Books on rf_id\n",
    "    \n",
    "Next, I calculated the weight of all books on each shelf:\n",
    "\n",
    "    | summarize sum (weight_gram) by shelf, total_weight\n",
    "\n",
    "This seemed to work, so I ran the query on all values and searched for an instance where the sum of the book weights on each shelf did not equal the total weight:\n",
    "\n",
    "    Shelves\n",
    "    // | take 20\n",
    "    | mv-expand rf_id = rf_ids to typeof(string)\n",
    "    | join kind = leftouter Books on rf_id\n",
    "    | summarize sum (weight_gram) by shelf, total_weight\n",
    "    | where total_weight !=  sum_weight_gram\n",
    "\n",
    "Unfortunately, I received many results back as there were small discrepancies on most shelves. The numbers seemed to differ by less than 100 grams and since the missing book weighed over 1000 grams, I searched with this criteria:\n",
    "\n",
    "    Shelves\n",
    "    // | take 20\n",
    "    | mv-expand rf_id = rf_ids to typeof(string)\n",
    "    | join kind = leftouter Books on rf_id\n",
    "    | summarize sum (weight_gram) by shelf, total_weight\n",
    "    | where total_weight - sum_weight_gram >= 1000    \n",
    "\n",
    "The only result was shelf 4242, which had a discrepancy of 1,798 between the total weight and weight of the books listed on it, matching closely to the missing book weight of 1,764."
   ]
  },
  {
   "cell_type": "markdown",
   "id": "cb0ada60",
   "metadata": {},
   "source": [
    "## My solution in Python:\n",
    "\n",
    "I decided to repeat the challenge using Python."
   ]
  },
  {
   "cell_type": "markdown",
   "id": "60658a96",
   "metadata": {},
   "source": [
    "I first imported the relevant modules:"
   ]
  },
  {
   "cell_type": "code",
   "execution_count": 1,
   "id": "3ba001df",
   "metadata": {},
   "outputs": [],
   "source": [
    "import pandas as pd\n",
    "import gzip # for unzipping csv file\n",
    "import ast # for converting list-formatted string to list type\n",
    "\n",
    "missing_title = \"De Revolutionibus Magnis Data\""
   ]
  },
  {
   "cell_type": "markdown",
   "id": "598c0a46",
   "metadata": {},
   "source": [
    "I then unzipped each file and read them as Pandas DataFrames into the variables \"books\" and \"shelves\":"
   ]
  },
  {
   "cell_type": "code",
   "execution_count": 2,
   "id": "30b6c1a9",
   "metadata": {},
   "outputs": [],
   "source": [
    "def unzip(file):\n",
    "    with gzip.open(file) as csv:\n",
    "        return pd.read_csv(csv)\n",
    "\n",
    "books = unzip('books.csv.gz')\n",
    "shelves = unzip('shelves.csv.gz')"
   ]
  },
  {
   "cell_type": "markdown",
   "id": "e35967e8",
   "metadata": {},
   "source": [
    "Looking at first five rows, I checked that import worked:"
   ]
  },
  {
   "cell_type": "code",
   "execution_count": 3,
   "id": "68816cd5",
   "metadata": {},
   "outputs": [
    {
     "data": {
      "text/html": [
       "<div>\n",
       "<style scoped>\n",
       "    .dataframe tbody tr th:only-of-type {\n",
       "        vertical-align: middle;\n",
       "    }\n",
       "\n",
       "    .dataframe tbody tr th {\n",
       "        vertical-align: top;\n",
       "    }\n",
       "\n",
       "    .dataframe thead th {\n",
       "        text-align: right;\n",
       "    }\n",
       "</style>\n",
       "<table border=\"1\" class=\"dataframe\">\n",
       "  <thead>\n",
       "    <tr style=\"text-align: right;\">\n",
       "      <th></th>\n",
       "      <th>rf_id</th>\n",
       "      <th>title</th>\n",
       "      <th>publish_date</th>\n",
       "      <th>author</th>\n",
       "      <th>language</th>\n",
       "      <th>number_of_pages</th>\n",
       "      <th>weight_gram</th>\n",
       "    </tr>\n",
       "  </thead>\n",
       "  <tbody>\n",
       "    <tr>\n",
       "      <th>0</th>\n",
       "      <td>b9b84d99512b4d3183d0640e665399a9</td>\n",
       "      <td>Llinell i'r byd</td>\n",
       "      <td>1791</td>\n",
       "      <td>NaN</td>\n",
       "      <td>wel</td>\n",
       "      <td>12</td>\n",
       "      <td>97</td>\n",
       "    </tr>\n",
       "    <tr>\n",
       "      <th>1</th>\n",
       "      <td>8a9f7d8f2eb843de8f8f5ea067caf2f1</td>\n",
       "      <td>Sterbensspiegel, das ist, Sonnenklare Vorstell...</td>\n",
       "      <td>1650</td>\n",
       "      <td>vor disem angefangen durch Rüdolffen Meyern .....</td>\n",
       "      <td>ger</td>\n",
       "      <td>166</td>\n",
       "      <td>1037</td>\n",
       "    </tr>\n",
       "    <tr>\n",
       "      <th>2</th>\n",
       "      <td>e92739d76b214402bf2292a2acbe6a22</td>\n",
       "      <td>Le primier volume del promptuarie, ou repertor...</td>\n",
       "      <td>1614</td>\n",
       "      <td>NaN</td>\n",
       "      <td>roa</td>\n",
       "      <td>286</td>\n",
       "      <td>1814</td>\n",
       "    </tr>\n",
       "    <tr>\n",
       "      <th>3</th>\n",
       "      <td>f3a85b14a6db4d458a820149eff13760</td>\n",
       "      <td>Praelectiones de duobus in theologia controver...</td>\n",
       "      <td>1631</td>\n",
       "      <td>per Reverendissimum virum Joan. Davenantium ...</td>\n",
       "      <td>lat</td>\n",
       "      <td>641</td>\n",
       "      <td>3884</td>\n",
       "    </tr>\n",
       "    <tr>\n",
       "      <th>4</th>\n",
       "      <td>6b5c01f5aa50469b9fec848851490928</td>\n",
       "      <td>A treatise on the laws concerning the election...</td>\n",
       "      <td>1773</td>\n",
       "      <td>NaN</td>\n",
       "      <td>eng</td>\n",
       "      <td>397</td>\n",
       "      <td>2382</td>\n",
       "    </tr>\n",
       "  </tbody>\n",
       "</table>\n",
       "</div>"
      ],
      "text/plain": [
       "                              rf_id  \\\n",
       "0  b9b84d99512b4d3183d0640e665399a9   \n",
       "1  8a9f7d8f2eb843de8f8f5ea067caf2f1   \n",
       "2  e92739d76b214402bf2292a2acbe6a22   \n",
       "3  f3a85b14a6db4d458a820149eff13760   \n",
       "4  6b5c01f5aa50469b9fec848851490928   \n",
       "\n",
       "                                               title  publish_date  \\\n",
       "0                                    Llinell i'r byd          1791   \n",
       "1  Sterbensspiegel, das ist, Sonnenklare Vorstell...          1650   \n",
       "2  Le primier volume del promptuarie, ou repertor...          1614   \n",
       "3  Praelectiones de duobus in theologia controver...          1631   \n",
       "4  A treatise on the laws concerning the election...          1773   \n",
       "\n",
       "                                              author language  \\\n",
       "0                                                NaN      wel   \n",
       "1  vor disem angefangen durch Rüdolffen Meyern .....      ger   \n",
       "2                                                NaN      roa   \n",
       "3    per Reverendissimum virum Joan. Davenantium ...      lat   \n",
       "4                                                NaN      eng   \n",
       "\n",
       "   number_of_pages  weight_gram  \n",
       "0               12           97  \n",
       "1              166         1037  \n",
       "2              286         1814  \n",
       "3              641         3884  \n",
       "4              397         2382  "
      ]
     },
     "execution_count": 3,
     "metadata": {},
     "output_type": "execute_result"
    }
   ],
   "source": [
    "books.head()"
   ]
  },
  {
   "cell_type": "code",
   "execution_count": 4,
   "id": "f1d09179",
   "metadata": {},
   "outputs": [
    {
     "data": {
      "text/html": [
       "<div>\n",
       "<style scoped>\n",
       "    .dataframe tbody tr th:only-of-type {\n",
       "        vertical-align: middle;\n",
       "    }\n",
       "\n",
       "    .dataframe tbody tr th {\n",
       "        vertical-align: top;\n",
       "    }\n",
       "\n",
       "    .dataframe thead th {\n",
       "        text-align: right;\n",
       "    }\n",
       "</style>\n",
       "<table border=\"1\" class=\"dataframe\">\n",
       "  <thead>\n",
       "    <tr style=\"text-align: right;\">\n",
       "      <th></th>\n",
       "      <th>shelf_id</th>\n",
       "      <th>book_rf_ids</th>\n",
       "      <th>total_weight_gram</th>\n",
       "    </tr>\n",
       "  </thead>\n",
       "  <tbody>\n",
       "    <tr>\n",
       "      <th>0</th>\n",
       "      <td>1395</td>\n",
       "      <td>[\"e0e068b3ada347cb8ed99b5172fdedf4\",\"d748c9ade...</td>\n",
       "      <td>54639</td>\n",
       "    </tr>\n",
       "    <tr>\n",
       "      <th>1</th>\n",
       "      <td>4251</td>\n",
       "      <td>[\"c1ef0f12eeab45ef9332c6f6ad8a097a\",\"25e1a5179...</td>\n",
       "      <td>51936</td>\n",
       "    </tr>\n",
       "    <tr>\n",
       "      <th>2</th>\n",
       "      <td>3589</td>\n",
       "      <td>[\"1b193ac7dfc64213b2f6387f68b0f017\",\"a45b03bc4...</td>\n",
       "      <td>83912</td>\n",
       "    </tr>\n",
       "    <tr>\n",
       "      <th>3</th>\n",
       "      <td>1833</td>\n",
       "      <td>[\"936e27c5802946e3b1d4ade126e4eb0b\",\"9192b2d51...</td>\n",
       "      <td>55231</td>\n",
       "    </tr>\n",
       "    <tr>\n",
       "      <th>4</th>\n",
       "      <td>10498</td>\n",
       "      <td>[\"b2cd51f2d0c247b5a9e9950544d077e9\"]</td>\n",
       "      <td>209270</td>\n",
       "    </tr>\n",
       "  </tbody>\n",
       "</table>\n",
       "</div>"
      ],
      "text/plain": [
       "   shelf_id                                        book_rf_ids  \\\n",
       "0      1395  [\"e0e068b3ada347cb8ed99b5172fdedf4\",\"d748c9ade...   \n",
       "1      4251  [\"c1ef0f12eeab45ef9332c6f6ad8a097a\",\"25e1a5179...   \n",
       "2      3589  [\"1b193ac7dfc64213b2f6387f68b0f017\",\"a45b03bc4...   \n",
       "3      1833  [\"936e27c5802946e3b1d4ade126e4eb0b\",\"9192b2d51...   \n",
       "4     10498               [\"b2cd51f2d0c247b5a9e9950544d077e9\"]   \n",
       "\n",
       "   total_weight_gram  \n",
       "0              54639  \n",
       "1              51936  \n",
       "2              83912  \n",
       "3              55231  \n",
       "4             209270  "
      ]
     },
     "execution_count": 4,
     "metadata": {},
     "output_type": "execute_result"
    }
   ],
   "source": [
    "shelves.head()"
   ]
  },
  {
   "cell_type": "markdown",
   "id": "4fa83901",
   "metadata": {},
   "source": [
    "I found the missing book information in the \"books\" DataFrame:"
   ]
  },
  {
   "cell_type": "code",
   "execution_count": 5,
   "id": "cbff1aae",
   "metadata": {
    "scrolled": true
   },
   "outputs": [
    {
     "data": {
      "text/html": [
       "<div>\n",
       "<style scoped>\n",
       "    .dataframe tbody tr th:only-of-type {\n",
       "        vertical-align: middle;\n",
       "    }\n",
       "\n",
       "    .dataframe tbody tr th {\n",
       "        vertical-align: top;\n",
       "    }\n",
       "\n",
       "    .dataframe thead th {\n",
       "        text-align: right;\n",
       "    }\n",
       "</style>\n",
       "<table border=\"1\" class=\"dataframe\">\n",
       "  <thead>\n",
       "    <tr style=\"text-align: right;\">\n",
       "      <th></th>\n",
       "      <th>rf_id</th>\n",
       "      <th>title</th>\n",
       "      <th>publish_date</th>\n",
       "      <th>author</th>\n",
       "      <th>language</th>\n",
       "      <th>number_of_pages</th>\n",
       "      <th>weight_gram</th>\n",
       "    </tr>\n",
       "  </thead>\n",
       "  <tbody>\n",
       "    <tr>\n",
       "      <th>280418</th>\n",
       "      <td>0cbc13e0aa7d487e8e797d3de3823161</td>\n",
       "      <td>De Revolutionibus Magnis Data</td>\n",
       "      <td>1613</td>\n",
       "      <td>Gustav Kustov</td>\n",
       "      <td>lat</td>\n",
       "      <td>256</td>\n",
       "      <td>1764</td>\n",
       "    </tr>\n",
       "  </tbody>\n",
       "</table>\n",
       "</div>"
      ],
      "text/plain": [
       "                                   rf_id                          title  \\\n",
       "280418  0cbc13e0aa7d487e8e797d3de3823161  De Revolutionibus Magnis Data   \n",
       "\n",
       "        publish_date         author language  number_of_pages  weight_gram  \n",
       "280418          1613  Gustav Kustov      lat              256         1764  "
      ]
     },
     "execution_count": 5,
     "metadata": {},
     "output_type": "execute_result"
    }
   ],
   "source": [
    "books[books[\"title\"] == missing_title]"
   ]
  },
  {
   "cell_type": "markdown",
   "id": "0ae690c1",
   "metadata": {},
   "source": [
    "I saved the RFID of missing book in \"missing_rfid\" variable:"
   ]
  },
  {
   "cell_type": "code",
   "execution_count": 6,
   "id": "52249193",
   "metadata": {},
   "outputs": [],
   "source": [
    "missing_rfid_list = books[\"rf_id\"].where(books[\"title\"] == missing_title)\n",
    "missing_rfid = missing_rfid_list.dropna().item()"
   ]
  },
  {
   "cell_type": "markdown",
   "id": "a99bc86a",
   "metadata": {},
   "source": [
    "The following function would be used when the correct shelf was identified:"
   ]
  },
  {
   "cell_type": "code",
   "execution_count": 7,
   "id": "7b2c489b",
   "metadata": {},
   "outputs": [],
   "source": [
    "def shelf_found(shelf):\n",
    "    print(\"Book found on shelf %d!\" % shelf)"
   ]
  },
  {
   "cell_type": "markdown",
   "id": "5c2e0066",
   "metadata": {},
   "source": [
    "I checked that book wasn't in the \"shelves\" database, based on the book's RFID:"
   ]
  },
  {
   "cell_type": "code",
   "execution_count": 8,
   "id": "ad954b3c",
   "metadata": {},
   "outputs": [],
   "source": [
    "for rfids in shelves[\"book_rf_ids\"]:\n",
    "    if missing_rfid in rfids:\n",
    "        shelf = shelves[\"shelf_id\"].where(shelves[\"book_rf_ids\"] == rfids).dropna().item()\n",
    "        shelf_found(shelf)\n",
    "        break"
   ]
  },
  {
   "cell_type": "markdown",
   "id": "ae2c3f12",
   "metadata": {},
   "source": [
    "I tried to loop through each of the rfids, sum the corresponding book weights, and filter the one where the difference is over 1000:"
   ]
  },
  {
   "cell_type": "markdown",
   "id": "9c4ea2bf",
   "metadata": {},
   "source": [
    "```\n",
    "for rfids in shelves.book_rf_ids:\n",
    "    \n",
    "    weights = []\n",
    "    \n",
    "    for rfid in rfids:\n",
    "        weight = books[\"weight_gram\"].where(books[\"rf_id\"] == rfid).dropna().item()\n",
    "        weights.append(weight)\n",
    "    \n",
    "    total_weight = shelves[\"total_weight_gram\"].where(shelves[\"book_rf_ids\"] == rfids).dropna().item()\n",
    "    \n",
    "    if total_weight - sum(weights) >= 1000:\n",
    "        shelf = shelves[\"shelf_id\"].where(shelves[\"book_rf_ids\"] == rfids).dropna().item()\n",
    "        shelf_found(shelf)\n",
    "        break\n",
    "```"
   ]
  },
  {
   "cell_type": "markdown",
   "id": "06e8f760",
   "metadata": {},
   "source": [
    "The code above took too long to run and didn't complete after a few minutes, so I interrupted it and tried the same methodology as I did in KQL:"
   ]
  },
  {
   "cell_type": "markdown",
   "id": "e287aa21",
   "metadata": {},
   "source": [
    "First, I tested the ast.literal_eval() method to convert the \"book_rf_ids\" values to lists from strings:"
   ]
  },
  {
   "cell_type": "code",
   "execution_count": 9,
   "id": "bd175b64",
   "metadata": {},
   "outputs": [
    {
     "name": "stdout",
     "output_type": "stream",
     "text": [
      "<class 'str'>\n",
      "<class 'list'>\n"
     ]
    }
   ],
   "source": [
    "first = shelves.book_rf_ids[0]\n",
    "print(type(first))\n",
    "first = ast.literal_eval(first)\n",
    "print(type(first))"
   ]
  },
  {
   "cell_type": "markdown",
   "id": "c756915d",
   "metadata": {},
   "source": [
    "Once confirming that worked, I applied it to the entire DataFrame with the apply() method and used explode() to separate the \"book_rf_ids\" values into separate rows:"
   ]
  },
  {
   "cell_type": "code",
   "execution_count": 10,
   "id": "288c3902",
   "metadata": {},
   "outputs": [],
   "source": [
    "shelves.book_rf_ids = shelves.book_rf_ids.apply(ast.literal_eval)    \n",
    "shelves_exploded = shelves.explode('book_rf_ids', ignore_index=True)"
   ]
  },
  {
   "cell_type": "markdown",
   "id": "c57691a4",
   "metadata": {},
   "source": [
    "To prepare for merging the \"books\" DataFrame with the now-exploded \"shelves\" DataFrame, I made the \"rf_id\" column name match and tested that it worked:"
   ]
  },
  {
   "cell_type": "code",
   "execution_count": 11,
   "id": "c857bf23",
   "metadata": {
    "scrolled": true
   },
   "outputs": [
    {
     "data": {
      "text/html": [
       "<div>\n",
       "<style scoped>\n",
       "    .dataframe tbody tr th:only-of-type {\n",
       "        vertical-align: middle;\n",
       "    }\n",
       "\n",
       "    .dataframe tbody tr th {\n",
       "        vertical-align: top;\n",
       "    }\n",
       "\n",
       "    .dataframe thead th {\n",
       "        text-align: right;\n",
       "    }\n",
       "</style>\n",
       "<table border=\"1\" class=\"dataframe\">\n",
       "  <thead>\n",
       "    <tr style=\"text-align: right;\">\n",
       "      <th></th>\n",
       "      <th>shelf_id</th>\n",
       "      <th>rf_id</th>\n",
       "      <th>total_weight_gram</th>\n",
       "    </tr>\n",
       "  </thead>\n",
       "  <tbody>\n",
       "    <tr>\n",
       "      <th>0</th>\n",
       "      <td>1395</td>\n",
       "      <td>e0e068b3ada347cb8ed99b5172fdedf4</td>\n",
       "      <td>54639</td>\n",
       "    </tr>\n",
       "    <tr>\n",
       "      <th>1</th>\n",
       "      <td>1395</td>\n",
       "      <td>d748c9ade1b74c1d9e1d31be9fa9491f</td>\n",
       "      <td>54639</td>\n",
       "    </tr>\n",
       "    <tr>\n",
       "      <th>2</th>\n",
       "      <td>1395</td>\n",
       "      <td>0e52ebe1b22d4906a6305543d86eaf34</td>\n",
       "      <td>54639</td>\n",
       "    </tr>\n",
       "    <tr>\n",
       "      <th>3</th>\n",
       "      <td>1395</td>\n",
       "      <td>9243bc7c7dd1405e81fad8c29054d3d7</td>\n",
       "      <td>54639</td>\n",
       "    </tr>\n",
       "    <tr>\n",
       "      <th>4</th>\n",
       "      <td>1395</td>\n",
       "      <td>b7668783b7ae4867b30f81c581a079e6</td>\n",
       "      <td>54639</td>\n",
       "    </tr>\n",
       "    <tr>\n",
       "      <th>...</th>\n",
       "      <td>...</td>\n",
       "      <td>...</td>\n",
       "      <td>...</td>\n",
       "    </tr>\n",
       "    <tr>\n",
       "      <th>325895</th>\n",
       "      <td>2814</td>\n",
       "      <td>2bd19381adbd4309a25749b41671bdaa</td>\n",
       "      <td>51528</td>\n",
       "    </tr>\n",
       "    <tr>\n",
       "      <th>325896</th>\n",
       "      <td>2814</td>\n",
       "      <td>8b11d7fd186149768717142ec8ba2c40</td>\n",
       "      <td>51528</td>\n",
       "    </tr>\n",
       "    <tr>\n",
       "      <th>325897</th>\n",
       "      <td>2814</td>\n",
       "      <td>e0306079fcd34ca9a42d631b38c0800d</td>\n",
       "      <td>51528</td>\n",
       "    </tr>\n",
       "    <tr>\n",
       "      <th>325898</th>\n",
       "      <td>2814</td>\n",
       "      <td>63754c3597224bd086bc2f826602fac7</td>\n",
       "      <td>51528</td>\n",
       "    </tr>\n",
       "    <tr>\n",
       "      <th>325899</th>\n",
       "      <td>2814</td>\n",
       "      <td>2d6d9a45f1d642b7a885aa5a96b068b2</td>\n",
       "      <td>51528</td>\n",
       "    </tr>\n",
       "  </tbody>\n",
       "</table>\n",
       "<p>325900 rows × 3 columns</p>\n",
       "</div>"
      ],
      "text/plain": [
       "        shelf_id                             rf_id  total_weight_gram\n",
       "0           1395  e0e068b3ada347cb8ed99b5172fdedf4              54639\n",
       "1           1395  d748c9ade1b74c1d9e1d31be9fa9491f              54639\n",
       "2           1395  0e52ebe1b22d4906a6305543d86eaf34              54639\n",
       "3           1395  9243bc7c7dd1405e81fad8c29054d3d7              54639\n",
       "4           1395  b7668783b7ae4867b30f81c581a079e6              54639\n",
       "...          ...                               ...                ...\n",
       "325895      2814  2bd19381adbd4309a25749b41671bdaa              51528\n",
       "325896      2814  8b11d7fd186149768717142ec8ba2c40              51528\n",
       "325897      2814  e0306079fcd34ca9a42d631b38c0800d              51528\n",
       "325898      2814  63754c3597224bd086bc2f826602fac7              51528\n",
       "325899      2814  2d6d9a45f1d642b7a885aa5a96b068b2              51528\n",
       "\n",
       "[325900 rows x 3 columns]"
      ]
     },
     "execution_count": 11,
     "metadata": {},
     "output_type": "execute_result"
    }
   ],
   "source": [
    "shelves_exploded.rename(columns = {'book_rf_ids':'rf_id'}, inplace = True)\n",
    "shelves_exploded"
   ]
  },
  {
   "cell_type": "markdown",
   "id": "892c49b8",
   "metadata": {},
   "source": [
    "I then merged the two DataFrames on the RFIDs:"
   ]
  },
  {
   "cell_type": "code",
   "execution_count": 12,
   "id": "b51d7afa",
   "metadata": {
    "scrolled": true
   },
   "outputs": [],
   "source": [
    "merged = pd.merge(shelves_exploded, books, on = \"rf_id\", how = \"inner\")"
   ]
  },
  {
   "cell_type": "markdown",
   "id": "d335d405",
   "metadata": {},
   "source": [
    "Finally, I aggregated the rows based on the Shelf ID. I kept the total weights as they were and summed the individual weights into one. Searching for the Shelf ID where the total weight was over 1000 grams more than the individually summed weights, I identified the correct shelf: 4242."
   ]
  },
  {
   "cell_type": "code",
   "execution_count": 13,
   "id": "76b05423",
   "metadata": {},
   "outputs": [
    {
     "name": "stdout",
     "output_type": "stream",
     "text": [
      "Book found on shelf 4242!\n"
     ]
    }
   ],
   "source": [
    "aggregation_functions = {'total_weight_gram': 'first', 'weight_gram': 'sum'}\n",
    "weight_compare = merged.groupby('shelf_id', as_index=False).aggregate(aggregation_functions).reindex(columns=merged.columns)\n",
    "\n",
    "shelf = weight_compare[\"shelf_id\"].where((weight_compare[\"total_weight_gram\"] - weight_compare[\"weight_gram\"]) > 1000).dropna().item()\n",
    "shelf_found(shelf)"
   ]
  },
  {
   "cell_type": "markdown",
   "id": "9574fbef",
   "metadata": {},
   "source": [
    "### Conclusion: This problem takes less code to solve in KQL than Python."
   ]
  }
 ],
 "metadata": {
  "kernelspec": {
   "display_name": "Python 3 (ipykernel)",
   "language": "python",
   "name": "python3"
  },
  "language_info": {
   "codemirror_mode": {
    "name": "ipython",
    "version": 3
   },
   "file_extension": ".py",
   "mimetype": "text/x-python",
   "name": "python",
   "nbconvert_exporter": "python",
   "pygments_lexer": "ipython3",
   "version": "3.9.13"
  }
 },
 "nbformat": 4,
 "nbformat_minor": 5
}
